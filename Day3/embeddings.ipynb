{
 "cells": [
  {
   "cell_type": "markdown",
   "metadata": {},
   "source": [
    "Count Vectorizer"
   ]
  },
  {
   "cell_type": "code",
   "execution_count": 1,
   "metadata": {},
   "outputs": [
    {
     "name": "stdout",
     "output_type": "stream",
     "text": [
      "Feature Names: ['amazing' 'in' 'is' 'language' 'learning' 'love' 'natural' 'new' 'nlp'\n",
      " 'processing' 'things']\n",
      "\n",
      "Count Vectors:\n",
      " [[0 0 0 1 0 1 1 0 0 1 0]\n",
      " [1 0 1 1 0 0 0 0 0 1 0]\n",
      " [0 1 0 0 1 1 0 1 1 0 1]]\n"
     ]
    }
   ],
   "source": [
    "from sklearn.feature_extraction.text import CountVectorizer\n",
    "\n",
    "# Sample corpus (list of text documents)\n",
    "corpus = [\n",
    "    \"I love natural language processing\",\n",
    "    \"Language processing is amazing\",\n",
    "    \"I love learning new things in NLP\"\n",
    "]\n",
    "\n",
    "# Initialize the Count Vectorizer\n",
    "vectorizer = CountVectorizer()\n",
    "\n",
    "# Fit the model and transform the text data to count vectors\n",
    "X = vectorizer.fit_transform(corpus)\n",
    "\n",
    "# Convert the result to an array for easier visualization\n",
    "X_array = X.toarray()\n",
    "\n",
    "# Get feature names (unique words in the corpus)\n",
    "feature_names = vectorizer.get_feature_names_out()\n",
    "\n",
    "# Print the results\n",
    "print(\"Feature Names:\", feature_names)\n",
    "print(\"\\nCount Vectors:\\n\", X_array)\n"
   ]
  },
  {
   "cell_type": "markdown",
   "metadata": {},
   "source": [
    "TF-IDF"
   ]
  },
  {
   "cell_type": "code",
   "execution_count": 2,
   "metadata": {},
   "outputs": [
    {
     "name": "stdout",
     "output_type": "stream",
     "text": [
      "Feature Names: ['amazing' 'in' 'is' 'language' 'learning' 'love' 'natural' 'new' 'nlp'\n",
      " 'processing' 'things']\n",
      "\n",
      "TF-IDF Vectors:\n",
      " [[0.         0.         0.         0.45985353 0.         0.45985353\n",
      "  0.60465213 0.         0.         0.45985353 0.        ]\n",
      " [0.5628291  0.         0.5628291  0.42804604 0.         0.\n",
      "  0.         0.         0.         0.42804604 0.        ]\n",
      " [0.         0.42339448 0.         0.         0.42339448 0.32200242\n",
      "  0.         0.42339448 0.42339448 0.         0.42339448]]\n"
     ]
    }
   ],
   "source": [
    "from sklearn.feature_extraction.text import TfidfVectorizer\n",
    "\n",
    "# Sample corpus (list of text documents)\n",
    "corpus = [\n",
    "    \"I love natural language processing\",\n",
    "    \"Language processing is amazing\",\n",
    "    \"I love learning new things in NLP\"\n",
    "]\n",
    "\n",
    "# Initialize the TF-IDF Vectorizer\n",
    "tfidf_vectorizer = TfidfVectorizer()\n",
    "\n",
    "# Fit the model and transform the text data to TF-IDF vectors\n",
    "X = tfidf_vectorizer.fit_transform(corpus)\n",
    "\n",
    "# Convert the result to an array for easier visualization\n",
    "X_array = X.toarray()\n",
    "\n",
    "# Get feature names (unique words in the corpus)\n",
    "feature_names = tfidf_vectorizer.get_feature_names_out()\n",
    "\n",
    "# Print the results\n",
    "print(\"Feature Names:\", feature_names)\n",
    "print(\"\\nTF-IDF Vectors:\\n\", X_array)\n"
   ]
  }
 ],
 "metadata": {
  "kernelspec": {
   "display_name": "msr_env",
   "language": "python",
   "name": "python3"
  },
  "language_info": {
   "codemirror_mode": {
    "name": "ipython",
    "version": 3
   },
   "file_extension": ".py",
   "mimetype": "text/x-python",
   "name": "python",
   "nbconvert_exporter": "python",
   "pygments_lexer": "ipython3",
   "version": "3.9.13"
  }
 },
 "nbformat": 4,
 "nbformat_minor": 2
}
