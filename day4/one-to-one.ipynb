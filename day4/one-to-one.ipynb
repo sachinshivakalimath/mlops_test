{
 "cells": [
  {
   "cell_type": "code",
   "execution_count": 1,
   "metadata": {},
   "outputs": [
    {
     "name": "stdout",
     "output_type": "stream",
     "text": [
      "\u001b[1m1/1\u001b[0m \u001b[32m━━━━━━━━━━━━━━━━━━━━\u001b[0m\u001b[37m\u001b[0m \u001b[1m4s\u001b[0m 4s/step\n",
      "Predicted class: Labrador_retriever, Confidence: 0.94\n"
     ]
    }
   ],
   "source": [
    "import json\n",
    "import numpy as np\n",
    "from tensorflow.keras.applications import MobileNetV2\n",
    "from tensorflow.keras.preprocessing.image import load_img, img_to_array\n",
    "from tensorflow.keras.utils import get_file\n",
    "\n",
    "# Load the pre-trained model\n",
    "model = MobileNetV2(weights=\"imagenet\")\n",
    "\n",
    "# Load and preprocess the input image\n",
    "image_path = \"dog.jpg\"  # Replace with your image file path\n",
    "img = load_img(image_path, target_size=(224, 224))  # Resize image\n",
    "img_array = img_to_array(img) / 255.0  # Normalize pixel values\n",
    "img_array = np.expand_dims(img_array, axis=0)  # Add batch dimension\n",
    "\n",
    "# Perform prediction\n",
    "predictions = model.predict(img_array)\n",
    "\n",
    "# Load ImageNet class index\n",
    "class_index_url = \"https://storage.googleapis.com/download.tensorflow.org/data/imagenet_class_index.json\"\n",
    "class_index_path = get_file(\"imagenet_class_index.json\", class_index_url)\n",
    "\n",
    "# Open and read the JSON file\n",
    "with open(class_index_path, \"r\") as file:\n",
    "    class_index = json.load(file)\n",
    "\n",
    "# Decode the predictions\n",
    "decoded_predictions = [(class_index[str(i)][1], predictions[0][i]) for i in range(len(predictions[0]))]\n",
    "decoded_predictions = sorted(decoded_predictions, key=lambda x: x[1], reverse=True)  # Sort by probability\n",
    "\n",
    "# Print the top prediction\n",
    "print(f\"Predicted class: {decoded_predictions[0][0]}, Confidence: {decoded_predictions[0][1]:.2f}\")\n"
   ]
  }
 ],
 "metadata": {
  "kernelspec": {
   "display_name": "msr_env",
   "language": "python",
   "name": "python3"
  },
  "language_info": {
   "codemirror_mode": {
    "name": "ipython",
    "version": 3
   },
   "file_extension": ".py",
   "mimetype": "text/x-python",
   "name": "python",
   "nbconvert_exporter": "python",
   "pygments_lexer": "ipython3",
   "version": "3.9.13"
  }
 },
 "nbformat": 4,
 "nbformat_minor": 2
}
