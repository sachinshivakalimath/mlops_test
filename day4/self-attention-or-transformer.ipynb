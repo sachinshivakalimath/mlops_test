{
 "cells": [
  {
   "cell_type": "code",
   "execution_count": 8,
   "metadata": {},
   "outputs": [
    {
     "name": "stderr",
     "output_type": "stream",
     "text": [
      "No model was supplied, defaulted to distilbert/distilbert-base-uncased-finetuned-sst-2-english and revision 714eb0f (https://huggingface.co/distilbert/distilbert-base-uncased-finetuned-sst-2-english).\n",
      "Using a pipeline without specifying a model name and revision in production is not recommended.\n"
     ]
    },
    {
     "name": "stdout",
     "output_type": "stream",
     "text": [
      "Input: I love this movie! It was fantastic.\n",
      "Sentiment: POSITIVE, Confidence: 1.00\n",
      "\n",
      "Input: This was the worst experience ever.\n",
      "Sentiment: NEGATIVE, Confidence: 1.00\n",
      "\n",
      "Input: The product is okay, but the service was terrible.\n",
      "Sentiment: NEGATIVE, Confidence: 1.00\n",
      "\n",
      "Input: I am so happy with the results!\n",
      "Sentiment: POSITIVE, Confidence: 1.00\n",
      "\n"
     ]
    }
   ],
   "source": [
    "from transformers import pipeline\n",
    "import tensorflow.keras as keras\n",
    "\n",
    "# Load a pre-trained sentiment analysis pipeline\n",
    "classifier = pipeline(\"sentiment-analysis\")\n",
    "\n",
    "# Input text for classification\n",
    "sentences = [\n",
    "    \"I love this movie! It was fantastic.\",\n",
    "    \"This was the worst experience ever.\",\n",
    "    \"The product is okay, but the service was terrible.\",\n",
    "    \"I am so happy with the results!\"\n",
    "]\n",
    "\n",
    "# Perform sentiment analysis\n",
    "for sentence in sentences:\n",
    "    result = classifier(sentence)[0]\n",
    "    print(f\"Input: {sentence}\")\n",
    "    print(f\"Sentiment: {result['label']}, Confidence: {result['score']:.2f}\\n\")\n"
   ]
  }
 ],
 "metadata": {
  "kernelspec": {
   "display_name": "dsiis_env",
   "language": "python",
   "name": "python3"
  },
  "language_info": {
   "codemirror_mode": {
    "name": "ipython",
    "version": 3
   },
   "file_extension": ".py",
   "mimetype": "text/x-python",
   "name": "python",
   "nbconvert_exporter": "python",
   "pygments_lexer": "ipython3",
   "version": "3.10.0"
  }
 },
 "nbformat": 4,
 "nbformat_minor": 2
}
